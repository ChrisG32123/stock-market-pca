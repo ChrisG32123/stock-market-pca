{
 "cells": [
  {
   "cell_type": "code",
   "execution_count": null,
   "metadata": {},
   "outputs": [],
   "source": [
    "### Get Data ###\n",
    "\n",
    "import numpy as np\n",
    "import matplotlib.pyplot as plt\n",
    "import pandas as pd\n",
    "\n",
    "np.random.seed(42)  # For reproducibility\n",
    "\n",
    "# Simulation parameters\n",
    "n_simulations = 10000\n",
    "weights = np.array([0.5, 0.5])  # Portfolio weights\n",
    "mean_returns = np.array([0.05, 0.10])  # Mean returns\n",
    "std_devs = np.array([0.10, 0.15])  # Standard deviations\n",
    "\n",
    "# Simulate random returns\n",
    "random_returns = np.random.randn(n_simulations, len(weights)) * std_devs + mean_returns\n",
    "portfolio_returns = np.sum(random_returns * weights, axis=1)\n",
    "\n",
    "# Calculate VaR and CVaR\n",
    "VaR_95 = np.percentile(portfolio_returns, 5)\n",
    "CVaR_95 = portfolio_returns[portfolio_returns <= VaR_95].mean()\n",
    "\n",
    "print(f\"VaR (95%): {VaR_95*100:.2f}%\")\n",
    "print(f\"CVaR (95%): {CVaR_95*100:.2f}%\")\n",
    "\n",
    "plt.figure(figsize=(10, 6))\n",
    "plt.hist(portfolio_returns, bins=50, alpha=0.75, label='Portfolio Returns')\n",
    "plt.axvline(VaR_95, color='r', linestyle='--', label='VaR (95%)')\n",
    "plt.axvline(CVaR_95, color='g', linestyle='--', label='CVaR (95%)')\n",
    "plt.title('Portfolio Returns Distribution')\n",
    "plt.xlabel('Returns')\n",
    "plt.ylabel('Frequency')\n",
    "plt.legend()\n",
    "plt.show()\n"
   ]
  },
  {
   "cell_type": "code",
   "execution_count": null,
   "metadata": {},
   "outputs": [],
   "source": [
    "# Import necessary libraries\n",
    "import pandas as pd\n",
    "import matplotlib.pyplot as plt\n",
    "\n",
    "# Load the results into a DataFrame\n",
    "results_df = pd.read_csv('output_results.csv', names=['Volatility'])\n",
    "\n",
    "# Plotting the volatility\n",
    "plt.figure(figsize=(14, 7))\n",
    "plt.plot(results_df['Volatility'], label='Volatility')\n",
    "plt.title('Financial Market Volatility Analysis')\n",
    "plt.xlabel('Time')\n",
    "plt.ylabel('Volatility')\n",
    "plt.legend()\n",
    "plt.show()"
   ]
  },
  {
   "cell_type": "code",
   "execution_count": null,
   "metadata": {},
   "outputs": [],
   "source": [
    "import pandas as pd\n",
    "import matplotlib.pyplot as plt\n",
    "\n",
    "# Load simulation results\n",
    "df = pd.read_csv('simulation_results.csv')\n",
    "\n",
    "# Example visualization: Histogram of portfolio losses\n",
    "plt.hist(df['portfolio_loss'], bins=50, alpha=0.75)\n",
    "plt.title('Histogram of Portfolio Losses')\n",
    "plt.xlabel('Loss')\n",
    "plt.ylabel('Frequency')\n",
    "plt.show()\n",
    "\n",
    "# Additional analysis here\n"
   ]
  },
  {
   "cell_type": "code",
   "execution_count": null,
   "metadata": {},
   "outputs": [],
   "source": [
    "import pandas as pd\n",
    "import matplotlib.pyplot as plt\n",
    "\n",
    "# Load the simulation results\n",
    "df = pd.read_csv('simulation_results.csv')\n",
    "\n",
    "# Plotting\n",
    "plt.hist(df['EndPrice'], bins=50, alpha=0.75)\n",
    "plt.title('Distribution of End Prices from Monte Carlo Simulation')\n",
    "plt.xlabel('End Price')\n",
    "plt.ylabel('Frequency')\n",
    "plt.grid(True)\n",
    "plt.show()\n"
   ]
  }
 ],
 "metadata": {
  "language_info": {
   "name": "python"
  },
  "orig_nbformat": 4
 },
 "nbformat": 4,
 "nbformat_minor": 2
}
