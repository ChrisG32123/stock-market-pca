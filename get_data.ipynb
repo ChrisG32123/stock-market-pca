{
 "cells": [
  {
   "cell_type": "code",
   "execution_count": 2,
   "metadata": {},
   "outputs": [
    {
     "ename": "ModuleNotFoundError",
     "evalue": "No module named 'yfinance'",
     "output_type": "error",
     "traceback": [
      "\u001b[0;31m---------------------------------------------------------------------------\u001b[0m",
      "\u001b[0;31mModuleNotFoundError\u001b[0m                       Traceback (most recent call last)",
      "\u001b[0;32m<ipython-input-2-500d7d199e8f>\u001b[0m in \u001b[0;36m<module>\u001b[0;34m\u001b[0m\n\u001b[0;32m----> 1\u001b[0;31m \u001b[0;32mimport\u001b[0m \u001b[0myfinance\u001b[0m \u001b[0;32mas\u001b[0m \u001b[0myf\u001b[0m\u001b[0;34m\u001b[0m\u001b[0m\n\u001b[0m\u001b[1;32m      2\u001b[0m \u001b[0;32mimport\u001b[0m \u001b[0mpandas\u001b[0m \u001b[0;32mas\u001b[0m \u001b[0mpd\u001b[0m\u001b[0;34m\u001b[0m\u001b[0m\n\u001b[1;32m      3\u001b[0m \u001b[0;32mimport\u001b[0m \u001b[0mrequests\u001b[0m\u001b[0;34m\u001b[0m\u001b[0m\n\u001b[1;32m      4\u001b[0m \u001b[0;34m\u001b[0m\u001b[0m\n\u001b[1;32m      5\u001b[0m \u001b[0;32mdef\u001b[0m \u001b[0mfetch_sp500_tickers\u001b[0m\u001b[0;34m(\u001b[0m\u001b[0;34m)\u001b[0m\u001b[0;34m:\u001b[0m\u001b[0;34m\u001b[0m\u001b[0m\n",
      "\u001b[0;31mModuleNotFoundError\u001b[0m: No module named 'yfinance'"
     ]
    }
   ],
   "source": [
    "import yfinance as yf\n",
    "import pandas as pd\n",
    "import requests\n",
    "\n",
    "def fetch_sp500_tickers():\n",
    "    # Fetch S&P 500 tickers using a Wikipedia table\n",
    "    url = 'https://en.wikipedia.org/wiki/List_of_S%26P_500_companies'\n",
    "    response = requests.get(url)\n",
    "    sp500_list = pd.read_html(response.text)[0]\n",
    "    tickers = sp500_list['Symbol'].tolist()\n",
    "    return [ticker.replace('.', '-') for ticker in tickers]  # Adjusting tickers to match Yahoo Finance format\n",
    "\n",
    "def fetch_stock_data(ticker):\n",
    "    # Fetch historical stock data using yfinance\n",
    "    stock = yf.Ticker(ticker)\n",
    "    data = stock.history(period=\"max\")  # 'max' for maximum historical data\n",
    "    data['Ticker'] = ticker  # Add ticker column to differentiate in CSV\n",
    "    return data\n",
    "\n",
    "def main():\n",
    "    # Get list of S&P 500 tickers\n",
    "    tickers = fetch_sp500_tickers()\n",
    "\n",
    "    # Initialize a dataframe to hold all fetched data\n",
    "    all_data = pd.DataFrame()\n",
    "\n",
    "    for ticker in tickers:\n",
    "        print(f\"Fetching data for {ticker}\")\n",
    "        data = fetch_stock_data(ticker)\n",
    "        all_data = pd.concat([all_data, data], axis=0)\n",
    "    \n",
    "    # Save the combined data to CSV\n",
    "    all_data.to_csv('sp500_stock_data.csv')\n",
    "    print(\"Data fetching complete and saved to sp500_stock_data.csv.\")\n",
    "\n",
    "if __name__ == \"__main__\":\n",
    "    main()"
   ]
  },
  {
   "cell_type": "markdown",
   "metadata": {},
   "source": [
    "# Added csv manually\n",
    "\n",
    "Didn't realize how big the file was:"
   ]
  },
  {
   "cell_type": "code",
   "execution_count": 2,
   "metadata": {},
   "outputs": [
    {
     "name": "stdout",
     "output_type": "stream",
     "text": [
      "File size: 82.00 MB\n"
     ]
    }
   ],
   "source": [
    "import os\n",
    "\n",
    "def get_file_size(file_path):\n",
    "    # Get file size in bytes\n",
    "    size_bytes = os.path.getsize(file_path)\n",
    "    # Convert to more readable units\n",
    "    size_kb = size_bytes / 1024\n",
    "    size_mb = size_kb / 1024\n",
    "    return size_mb  # Returns size in Megabytes\n",
    "\n",
    "file_path = '/mnt/home/gerlac37/final-project-ChrisG32123/Take3/sp500_stock_data.csv'\n",
    "size_mb = get_file_size(file_path)\n",
    "print(f\"File size: {size_mb:.2f} MB\")\n"
   ]
  },
  {
   "cell_type": "code",
   "execution_count": null,
   "metadata": {},
   "outputs": [],
   "source": []
  }
 ],
 "metadata": {
  "kernelspec": {
   "display_name": "Python 3",
   "language": "python",
   "name": "python3"
  },
  "language_info": {
   "codemirror_mode": {
    "name": "ipython",
    "version": 3
   },
   "file_extension": ".py",
   "mimetype": "text/x-python",
   "name": "python",
   "nbconvert_exporter": "python",
   "pygments_lexer": "ipython3",
   "version": "3.6.4"
  },
  "orig_nbformat": 4
 },
 "nbformat": 4,
 "nbformat_minor": 2
}
