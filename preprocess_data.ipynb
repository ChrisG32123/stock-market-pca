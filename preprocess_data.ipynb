{
 "cells": [
  {
   "cell_type": "code",
   "execution_count": 2,
   "metadata": {},
   "outputs": [],
   "source": [
    "import numpy as np\n",
    "import pandas as pd\n",
    "from datetime import datetime, timedelta\n",
    "import matplotlib.pyplot as plt\n",
    "import pytz  # Import pytz to handle time zone\n",
    "\n",
    "# Section 1: Define Tickers and Time Range\n",
    "tickers = ['MMM', 'ADBE', 'GOOGL', 'AMAT', 'AMZN']\n",
    "end_date = datetime.now(pytz.timezone('America/New_York'))  # Make the datetime timezone-aware\n",
    "start_date = end_date - timedelta(days=5 * 365)\n",
    "\n",
    "# Section 2: Load Adjusted Close Prices from CSV\n",
    "csv_path = '/Users/chrisgerlach/Programming/stock-market-pca/sp500_stock_data.csv'\n",
    "all_data = pd.read_csv(csv_path)\n",
    "all_data['Date'] = pd.to_datetime(all_data['Date'], utc=True, errors='coerce')\n",
    "\n",
    "# Convert the 'Date' in DataFrame to the same timezone as 'start_date' and 'end_date'\n",
    "all_data['Date'] = all_data['Date'].dt.tz_convert('America/New_York')\n",
    "\n",
    "# Filter the data for the selected tickers and date range\n",
    "adj_close_df = pd.DataFrame()\n",
    "for ticker in tickers:\n",
    "    data = all_data[(all_data['Ticker'] == ticker) & (all_data['Date'] >= start_date) & (all_data['Date'] <= end_date)]\n",
    "    data.set_index('Date', inplace=True)\n",
    "    adj_close_df[ticker] = data['Close']\n",
    "\n",
    "# Deal with any NaN values by taking the average between day before and day after\n",
    "for ticker in tickers:\n",
    "    nan_rows = adj_close_df[ticker].index[adj_close_df[ticker].apply(np.isnan)]\n",
    "\n",
    "    for nan_row in nan_rows:\n",
    "        row_loc = adj_close_df.index.get_loc(nan_row)\n",
    "        \n",
    "        # Find values directly above and below the NaN value\n",
    "        if row_loc > 0 and row_loc < len(adj_close_df) - 1:\n",
    "            value_before = adj_close_df.iloc[row_loc - 1][ticker]\n",
    "            value_after = adj_close_df.iloc[row_loc + 1][ticker]\n",
    "            \n",
    "            # Fill the NaN with the mean value\n",
    "            mean_value = np.mean([value_before, value_after])\n",
    "            adj_close_df.at[nan_row, ticker] = mean_value\n",
    "\n",
    "# Save the adjusted close prices DataFrame to a CSV file\n",
    "save_path = '/Users/chrisgerlach/Programming/stock-market-pca/adj_close_df.csv'\n",
    "adj_close_df.to_csv(save_path)"
   ]
  },
  {
   "cell_type": "code",
   "execution_count": 3,
   "metadata": {},
   "outputs": [
    {
     "name": "stdout",
     "output_type": "stream",
     "text": [
      "Optimal Weights:\n",
      "MMM: 0.0048\n",
      "ADBE: 0.0085\n",
      "GOOGL: 0.3250\n",
      "AMAT: 0.6084\n",
      "AMZN: 0.0533\n",
      "Expected Annual Return: 0.2490\n",
      "Expected Volatility: 0.3647\n",
      "Sharpe Ratio: 0.6279\n"
     ]
    },
    {
     "data": {
      "image/png": "[encoded data removed]",
      "text/plain": [
       "<Figure size 1000x600 with 1 Axes>"
      ]
     },
     "metadata": {},
     "output_type": "display_data"
    }
   ],
   "source": [
    "# Section 3: Calculate Lognormal Returns\n",
    "log_returns = np.log(adj_close_df / adj_close_df.shift(1)).dropna()\n",
    "\n",
    "# Section 4: Calculate Covariance Matrix\n",
    "cov_matrix = log_returns.cov() * 252\n",
    "\n",
    "# Section 5: Define Portfolio Performance Metrics\n",
    "def standard_deviation(weights, cov_matrix):\n",
    "    variance = np.dot(weights.T, np.dot(cov_matrix, weights))\n",
    "    return np.sqrt(variance)\n",
    "\n",
    "def expected_return(weights, log_returns):\n",
    "    return np.sum(log_returns.mean() * weights) * 252\n",
    "\n",
    "def sharpe_ratio(weights, log_returns, cov_matrix, risk_free_rate):\n",
    "    return (expected_return(weights, log_returns) - risk_free_rate) / standard_deviation(weights, cov_matrix)\n",
    "\n",
    "# Section 6: Portfolio Optimization using Monte Carlo Simulation\n",
    "risk_free_rate = 0.02\n",
    "num_portfolios = 100000\n",
    "all_weights = np.zeros((num_portfolios, len(tickers)))\n",
    "return_arr = np.zeros(num_portfolios)\n",
    "volatility_arr = np.zeros(num_portfolios)\n",
    "sharpe_arr = np.zeros(num_portfolios)\n",
    "\n",
    "for i in range(num_portfolios):\n",
    "    weights = np.array(np.random.random(len(tickers)))\n",
    "    weights = weights / np.sum(weights)\n",
    "    all_weights[i, :] = weights\n",
    "\n",
    "    return_arr[i] = expected_return(weights, log_returns)\n",
    "    volatility_arr[i] = standard_deviation(weights, cov_matrix)\n",
    "    sharpe_arr[i] = sharpe_ratio(weights, log_returns, cov_matrix, risk_free_rate)\n",
    "\n",
    "# Extract the portfolio that has the maximum Sharpe ratio\n",
    "max_index = sharpe_arr.argmax()\n",
    "optimal_weights = all_weights[max_index, :]\n",
    "\n",
    "print(\"Optimal Weights:\")\n",
    "for ticker, weight in zip(tickers, optimal_weights):\n",
    "    print(f\"{ticker}: {weight:.4f}\")\n",
    "\n",
    "optimal_portfolio_return = return_arr[max_index]\n",
    "optimal_portfolio_volatility = volatility_arr[max_index]\n",
    "optimal_sharpe_ratio = sharpe_arr[max_index]\n",
    "\n",
    "print(f\"Expected Annual Return: {optimal_portfolio_return:.4f}\")\n",
    "print(f\"Expected Volatility: {optimal_portfolio_volatility:.4f}\")\n",
    "print(f\"Sharpe Ratio: {optimal_sharpe_ratio:.4f}\")\n",
    "\n",
    "# Display the Final Portfolio in a Plot\n",
    "plt.figure(figsize=(10, 6))\n",
    "plt.bar(tickers, optimal_weights)\n",
    "plt.xlabel('Assets')\n",
    "plt.ylabel('Optimal Weights')\n",
    "plt.title('Optimal Portfolio Weights')\n",
    "plt.show()"
   ]
  },
  {
   "cell_type": "code",
   "execution_count": null,
   "metadata": {},
   "outputs": [],
   "source": []
  }
 ],
 "metadata": {
  "kernelspec": {
   "display_name": "stock_analysis",
   "language": "python",
   "name": "python3"
  },
  "language_info": {
   "codemirror_mode": {
    "name": "ipython",
    "version": 3
   },
   "file_extension": ".py",
   "mimetype": "text/x-python",
   "name": "python",
   "nbconvert_exporter": "python",
   "pygments_lexer": "ipython3",
   "version": "3.12.3"
  }
 },
 "nbformat": 4,
 "nbformat_minor": 2
}
